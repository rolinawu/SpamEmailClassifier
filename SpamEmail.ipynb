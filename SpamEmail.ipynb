{
 "cells": [
  {
   "cell_type": "raw",
   "metadata": {},
   "source": [
    "Data Source: http://www.csmining.org/index.php/spam-email-datasets-.html\n",
    "\n",
    "\n",
    "The dataset contains two parts:\n",
    "\n",
    "- TRAINING: 4327 messages out of which there are 2949 non-spam messages (HAM) and 1378 spam messagees (SPAM), all received from non-spam-trap sources.\n",
    "\n",
    "SPAMTrain.label contains the labels of the emails, with 1 stands for a HAM and 0 stands for a SPAM.\n",
    "\n",
    "- TESTING: 4292 messages without known class labels.\n",
    "\n",
    "The email format description\n",
    "\n",
    "The format of the .eml file is definde in RFC822, and information on recent standard of email, i.e., MIME (Multipurpose Internet Mail Extensions) can be find in RFC2045-2049.\n",
    "\n",
    "On the provide python script\n",
    "\n",
    "Since some data mining techniques only make use of the subject and body of the email to identify spam. In this package, we have included a simple python script (ExtractContent.py) which can help to extract the subject and body of the email.\n",
    "\n",
    "In a python compatible environment, ( the code is test on python 2.5.1 and should work on python 2.x)\n",
    "\n",
    "1, invoke the script by command ./ExtractContent.py\n",
    "\n",
    "2, input source directory -- where you store the source files For exmaple C:\\EMAILPro\\CSDMC2010_SPAM\\TEST\n",
    "\n",
    "3, input destination directory -- where you want the extracted body to be For example C:\\EMAILPro\\CSDMC2010_SPAM\\TEST_NEW\n",
    "\n",
    "4, we are done\n",
    "\n",
    "Note that, the script only extract limited information from the email (no information of fields like to, from, attachment are extract but only the subject and the first part of the body.) By oferring such a script we just want to show a simple preprocessing mehtod where the participants can start from. More advanced method which makes use of email header information or even attachment information are encouraged."
   ]
  },
  {
   "cell_type": "code",
   "execution_count": 1,
   "metadata": {
    "collapsed": false
   },
   "outputs": [],
   "source": [
    "import os, sys, sklearn, re\n",
    "import BeautifulSoup as bs\n",
    "import pandas as pd\n",
    "import numpy as np"
   ]
  },
  {
   "cell_type": "code",
   "execution_count": 2,
   "metadata": {
    "collapsed": false
   },
   "outputs": [],
   "source": [
    "filepath_train = \"/Users/Rolina/Desktop/SpamEmail/CSDMC2010_SPAM/TRAINING\""
   ]
  },
  {
   "cell_type": "code",
   "execution_count": 3,
   "metadata": {
    "collapsed": false
   },
   "outputs": [],
   "source": [
    "files = [{'file':f, 'path':os.path.join(filepath_train, f), 'content':'\\n'.join(open(os.path.join(filepath_train, f)).readlines())} for f in os.listdir(filepath_train) if os.path.isfile(os.path.join(filepath_train, f))]"
   ]
  },
  {
   "cell_type": "code",
   "execution_count": 4,
   "metadata": {
    "collapsed": false
   },
   "outputs": [
    {
     "data": {
      "text/html": [
       "<div>\n",
       "<table border=\"1\" class=\"dataframe\">\n",
       "  <thead>\n",
       "    <tr style=\"text-align: right;\">\n",
       "      <th></th>\n",
       "      <th>content</th>\n",
       "      <th>file</th>\n",
       "      <th>path</th>\n",
       "    </tr>\n",
       "  </thead>\n",
       "  <tbody>\n",
       "    <tr>\n",
       "      <th>0</th>\n",
       "      <td>Return-Path: ler@lerami.lerctr.org\\n\\nDelivery...</td>\n",
       "      <td>TRAIN_00000.eml</td>\n",
       "      <td>/Users/Rolina/Desktop/SpamEmail/CSDMC2010_SPAM...</td>\n",
       "    </tr>\n",
       "    <tr>\n",
       "      <th>1</th>\n",
       "      <td>From lkqyvstyles@site-personals.com  Tue Aug 2...</td>\n",
       "      <td>TRAIN_00001.eml</td>\n",
       "      <td>/Users/Rolina/Desktop/SpamEmail/CSDMC2010_SPAM...</td>\n",
       "    </tr>\n",
       "    <tr>\n",
       "      <th>2</th>\n",
       "      <td>X-Account-Key: account5\\r\\n\\nX-UIDL: GmailId12...</td>\n",
       "      <td>TRAIN_00002.eml</td>\n",
       "      <td>/Users/Rolina/Desktop/SpamEmail/CSDMC2010_SPAM...</td>\n",
       "    </tr>\n",
       "    <tr>\n",
       "      <th>3</th>\n",
       "      <td>From - Tue Oct 27 10:23:55 2009\\r\\n\\nX-Account...</td>\n",
       "      <td>TRAIN_00003.eml</td>\n",
       "      <td>/Users/Rolina/Desktop/SpamEmail/CSDMC2010_SPAM...</td>\n",
       "    </tr>\n",
       "    <tr>\n",
       "      <th>4</th>\n",
       "      <td>From www-data@mail.virtualed.org  Tue Jul 30 2...</td>\n",
       "      <td>TRAIN_00004.eml</td>\n",
       "      <td>/Users/Rolina/Desktop/SpamEmail/CSDMC2010_SPAM...</td>\n",
       "    </tr>\n",
       "  </tbody>\n",
       "</table>\n",
       "</div>"
      ],
      "text/plain": [
       "                                             content             file  \\\n",
       "0  Return-Path: ler@lerami.lerctr.org\\n\\nDelivery...  TRAIN_00000.eml   \n",
       "1  From lkqyvstyles@site-personals.com  Tue Aug 2...  TRAIN_00001.eml   \n",
       "2  X-Account-Key: account5\\r\\n\\nX-UIDL: GmailId12...  TRAIN_00002.eml   \n",
       "3  From - Tue Oct 27 10:23:55 2009\\r\\n\\nX-Account...  TRAIN_00003.eml   \n",
       "4  From www-data@mail.virtualed.org  Tue Jul 30 2...  TRAIN_00004.eml   \n",
       "\n",
       "                                                path  \n",
       "0  /Users/Rolina/Desktop/SpamEmail/CSDMC2010_SPAM...  \n",
       "1  /Users/Rolina/Desktop/SpamEmail/CSDMC2010_SPAM...  \n",
       "2  /Users/Rolina/Desktop/SpamEmail/CSDMC2010_SPAM...  \n",
       "3  /Users/Rolina/Desktop/SpamEmail/CSDMC2010_SPAM...  \n",
       "4  /Users/Rolina/Desktop/SpamEmail/CSDMC2010_SPAM...  "
      ]
     },
     "execution_count": 4,
     "metadata": {},
     "output_type": "execute_result"
    }
   ],
   "source": [
    "df_files = pd.DataFrame(files)\n",
    "df_files.head()"
   ]
  },
  {
   "cell_type": "code",
   "execution_count": 5,
   "metadata": {
    "collapsed": false
   },
   "outputs": [],
   "source": [
    "filepath_label = \"/Users/Rolina/Desktop/SpamEmail/CSDMC2010_SPAM/SPAMTrain.label\"\n",
    "df_labels = pd.DataFrame.from_csv(filepath_label, sep=\" \", header = None, index_col = None)\n",
    "df_labels.columns = ['class','file']"
   ]
  },
  {
   "cell_type": "code",
   "execution_count": 6,
   "metadata": {
    "collapsed": false
   },
   "outputs": [
    {
     "data": {
      "text/html": [
       "<div>\n",
       "<table border=\"1\" class=\"dataframe\">\n",
       "  <thead>\n",
       "    <tr style=\"text-align: right;\">\n",
       "      <th></th>\n",
       "      <th>class</th>\n",
       "      <th>file</th>\n",
       "    </tr>\n",
       "  </thead>\n",
       "  <tbody>\n",
       "    <tr>\n",
       "      <th>0</th>\n",
       "      <td>0</td>\n",
       "      <td>TRAIN_00000.eml</td>\n",
       "    </tr>\n",
       "    <tr>\n",
       "      <th>1</th>\n",
       "      <td>0</td>\n",
       "      <td>TRAIN_00001.eml</td>\n",
       "    </tr>\n",
       "    <tr>\n",
       "      <th>2</th>\n",
       "      <td>1</td>\n",
       "      <td>TRAIN_00002.eml</td>\n",
       "    </tr>\n",
       "    <tr>\n",
       "      <th>3</th>\n",
       "      <td>0</td>\n",
       "      <td>TRAIN_00003.eml</td>\n",
       "    </tr>\n",
       "    <tr>\n",
       "      <th>4</th>\n",
       "      <td>0</td>\n",
       "      <td>TRAIN_00004.eml</td>\n",
       "    </tr>\n",
       "  </tbody>\n",
       "</table>\n",
       "</div>"
      ],
      "text/plain": [
       "   class             file\n",
       "0      0  TRAIN_00000.eml\n",
       "1      0  TRAIN_00001.eml\n",
       "2      1  TRAIN_00002.eml\n",
       "3      0  TRAIN_00003.eml\n",
       "4      0  TRAIN_00004.eml"
      ]
     },
     "execution_count": 6,
     "metadata": {},
     "output_type": "execute_result"
    }
   ],
   "source": [
    "df_labels.head()\n"
   ]
  },
  {
   "cell_type": "code",
   "execution_count": 7,
   "metadata": {
    "collapsed": false
   },
   "outputs": [
    {
     "data": {
      "text/html": [
       "<div>\n",
       "<table border=\"1\" class=\"dataframe\">\n",
       "  <thead>\n",
       "    <tr style=\"text-align: right;\">\n",
       "      <th></th>\n",
       "      <th>content</th>\n",
       "      <th>file</th>\n",
       "      <th>path</th>\n",
       "      <th>class</th>\n",
       "    </tr>\n",
       "  </thead>\n",
       "  <tbody>\n",
       "    <tr>\n",
       "      <th>0</th>\n",
       "      <td>Return-Path: ler@lerami.lerctr.org\\n\\nDelivery...</td>\n",
       "      <td>TRAIN_00000.eml</td>\n",
       "      <td>/Users/Rolina/Desktop/SpamEmail/CSDMC2010_SPAM...</td>\n",
       "      <td>0</td>\n",
       "    </tr>\n",
       "    <tr>\n",
       "      <th>1</th>\n",
       "      <td>From lkqyvstyles@site-personals.com  Tue Aug 2...</td>\n",
       "      <td>TRAIN_00001.eml</td>\n",
       "      <td>/Users/Rolina/Desktop/SpamEmail/CSDMC2010_SPAM...</td>\n",
       "      <td>0</td>\n",
       "    </tr>\n",
       "    <tr>\n",
       "      <th>2</th>\n",
       "      <td>X-Account-Key: account5\\r\\n\\nX-UIDL: GmailId12...</td>\n",
       "      <td>TRAIN_00002.eml</td>\n",
       "      <td>/Users/Rolina/Desktop/SpamEmail/CSDMC2010_SPAM...</td>\n",
       "      <td>1</td>\n",
       "    </tr>\n",
       "    <tr>\n",
       "      <th>3</th>\n",
       "      <td>From - Tue Oct 27 10:23:55 2009\\r\\n\\nX-Account...</td>\n",
       "      <td>TRAIN_00003.eml</td>\n",
       "      <td>/Users/Rolina/Desktop/SpamEmail/CSDMC2010_SPAM...</td>\n",
       "      <td>0</td>\n",
       "    </tr>\n",
       "    <tr>\n",
       "      <th>4</th>\n",
       "      <td>From www-data@mail.virtualed.org  Tue Jul 30 2...</td>\n",
       "      <td>TRAIN_00004.eml</td>\n",
       "      <td>/Users/Rolina/Desktop/SpamEmail/CSDMC2010_SPAM...</td>\n",
       "      <td>0</td>\n",
       "    </tr>\n",
       "  </tbody>\n",
       "</table>\n",
       "</div>"
      ],
      "text/plain": [
       "                                             content             file  \\\n",
       "0  Return-Path: ler@lerami.lerctr.org\\n\\nDelivery...  TRAIN_00000.eml   \n",
       "1  From lkqyvstyles@site-personals.com  Tue Aug 2...  TRAIN_00001.eml   \n",
       "2  X-Account-Key: account5\\r\\n\\nX-UIDL: GmailId12...  TRAIN_00002.eml   \n",
       "3  From - Tue Oct 27 10:23:55 2009\\r\\n\\nX-Account...  TRAIN_00003.eml   \n",
       "4  From www-data@mail.virtualed.org  Tue Jul 30 2...  TRAIN_00004.eml   \n",
       "\n",
       "                                                path  class  \n",
       "0  /Users/Rolina/Desktop/SpamEmail/CSDMC2010_SPAM...      0  \n",
       "1  /Users/Rolina/Desktop/SpamEmail/CSDMC2010_SPAM...      0  \n",
       "2  /Users/Rolina/Desktop/SpamEmail/CSDMC2010_SPAM...      1  \n",
       "3  /Users/Rolina/Desktop/SpamEmail/CSDMC2010_SPAM...      0  \n",
       "4  /Users/Rolina/Desktop/SpamEmail/CSDMC2010_SPAM...      0  "
      ]
     },
     "execution_count": 7,
     "metadata": {},
     "output_type": "execute_result"
    }
   ],
   "source": [
    "df_files_labeled = df_files.merge(df_labels)\n",
    "df_files_labeled.head()"
   ]
  },
  {
   "cell_type": "code",
   "execution_count": 8,
   "metadata": {
    "collapsed": false
   },
   "outputs": [],
   "source": [
    "file_words = []\n",
    "\n",
    "for idx, row in df_files_labeled.iterrows():\n",
    "    word_counter = {}\n",
    "    \n",
    "#    print bs.BeautifulSoup(row['content'])\n",
    "    content = row['content']\n",
    "    parsed = re.sub(r'<[^<>]*>', '', content)\n",
    "    words = [w.strip('(').strip(')').strip('\"') for w in re.split(r'[!,\\.\\s\\n]',parsed) if len(w)>0]\n",
    "    for w in words:\n",
    "        if w.lower() in word_counter:\n",
    "            word_counter[w.lower()]+=1\n",
    "        else:\n",
    "            word_counter[w.lower()]=1\n",
    "    file_words.append(word_counter)\n"
   ]
  },
  {
   "cell_type": "code",
   "execution_count": 9,
   "metadata": {
    "collapsed": false
   },
   "outputs": [],
   "source": [
    "df_words = pd.DataFrame(file_words).fillna(0)"
   ]
  },
  {
   "cell_type": "code",
   "execution_count": 10,
   "metadata": {
    "collapsed": false
   },
   "outputs": [],
   "source": [
    "df_filtered = df_words[df_words.columns[df_words.sum()>50]]"
   ]
  },
  {
   "cell_type": "code",
   "execution_count": 11,
   "metadata": {
    "collapsed": false
   },
   "outputs": [
    {
     "name": "stdout",
     "output_type": "stream",
     "text": [
      "(4327, 183733)\n",
      "(4327, 4017)\n"
     ]
    }
   ],
   "source": [
    "print df_words.shape\n",
    "print df_filtered.shape"
   ]
  },
  {
   "cell_type": "code",
   "execution_count": 12,
   "metadata": {
    "collapsed": false
   },
   "outputs": [
    {
     "data": {
      "text/html": [
       "<div>\n",
       "<table border=\"1\" class=\"dataframe\">\n",
       "  <thead>\n",
       "    <tr style=\"text-align: right;\">\n",
       "      <th></th>\n",
       "      <th></th>\n",
       "      <th>#</th>\n",
       "      <th>#1</th>\n",
       "      <th>#2</th>\n",
       "      <th>#cc3366</th>\n",
       "      <th>$</th>\n",
       "      <th>$1</th>\n",
       "      <th>$100</th>\n",
       "      <th>$2</th>\n",
       "      <th>$25</th>\n",
       "      <th>...</th>\n",
       "      <th>zzzzteana@yahoogroups</th>\n",
       "      <th>{</th>\n",
       "      <th>{color:</th>\n",
       "      <th>|</th>\n",
       "      <th>}</th>\n",
       "      <th>~/</th>\n",
       "      <th>�</th>\n",
       "      <th>�</th>\n",
       "      <th></th>\n",
       "      <th>»</th>\n",
       "    </tr>\n",
       "  </thead>\n",
       "  <tbody>\n",
       "    <tr>\n",
       "      <th>0</th>\n",
       "      <td>0</td>\n",
       "      <td>0</td>\n",
       "      <td>0</td>\n",
       "      <td>0</td>\n",
       "      <td>0</td>\n",
       "      <td>1</td>\n",
       "      <td>0</td>\n",
       "      <td>0</td>\n",
       "      <td>0</td>\n",
       "      <td>0</td>\n",
       "      <td>...</td>\n",
       "      <td>0</td>\n",
       "      <td>0</td>\n",
       "      <td>0</td>\n",
       "      <td>0</td>\n",
       "      <td>0</td>\n",
       "      <td>0</td>\n",
       "      <td>0</td>\n",
       "      <td>2</td>\n",
       "      <td>0</td>\n",
       "      <td>0</td>\n",
       "    </tr>\n",
       "    <tr>\n",
       "      <th>1</th>\n",
       "      <td>0</td>\n",
       "      <td>0</td>\n",
       "      <td>0</td>\n",
       "      <td>0</td>\n",
       "      <td>0</td>\n",
       "      <td>0</td>\n",
       "      <td>0</td>\n",
       "      <td>0</td>\n",
       "      <td>0</td>\n",
       "      <td>0</td>\n",
       "      <td>...</td>\n",
       "      <td>0</td>\n",
       "      <td>0</td>\n",
       "      <td>0</td>\n",
       "      <td>0</td>\n",
       "      <td>0</td>\n",
       "      <td>0</td>\n",
       "      <td>0</td>\n",
       "      <td>0</td>\n",
       "      <td>0</td>\n",
       "      <td>0</td>\n",
       "    </tr>\n",
       "    <tr>\n",
       "      <th>2</th>\n",
       "      <td>1</td>\n",
       "      <td>0</td>\n",
       "      <td>0</td>\n",
       "      <td>0</td>\n",
       "      <td>0</td>\n",
       "      <td>0</td>\n",
       "      <td>0</td>\n",
       "      <td>0</td>\n",
       "      <td>0</td>\n",
       "      <td>0</td>\n",
       "      <td>...</td>\n",
       "      <td>0</td>\n",
       "      <td>0</td>\n",
       "      <td>0</td>\n",
       "      <td>0</td>\n",
       "      <td>0</td>\n",
       "      <td>0</td>\n",
       "      <td>0</td>\n",
       "      <td>0</td>\n",
       "      <td>0</td>\n",
       "      <td>0</td>\n",
       "    </tr>\n",
       "    <tr>\n",
       "      <th>3</th>\n",
       "      <td>0</td>\n",
       "      <td>0</td>\n",
       "      <td>0</td>\n",
       "      <td>0</td>\n",
       "      <td>0</td>\n",
       "      <td>0</td>\n",
       "      <td>0</td>\n",
       "      <td>0</td>\n",
       "      <td>0</td>\n",
       "      <td>0</td>\n",
       "      <td>...</td>\n",
       "      <td>0</td>\n",
       "      <td>0</td>\n",
       "      <td>0</td>\n",
       "      <td>0</td>\n",
       "      <td>0</td>\n",
       "      <td>0</td>\n",
       "      <td>0</td>\n",
       "      <td>0</td>\n",
       "      <td>0</td>\n",
       "      <td>0</td>\n",
       "    </tr>\n",
       "    <tr>\n",
       "      <th>4</th>\n",
       "      <td>1</td>\n",
       "      <td>0</td>\n",
       "      <td>0</td>\n",
       "      <td>0</td>\n",
       "      <td>0</td>\n",
       "      <td>0</td>\n",
       "      <td>0</td>\n",
       "      <td>0</td>\n",
       "      <td>0</td>\n",
       "      <td>0</td>\n",
       "      <td>...</td>\n",
       "      <td>0</td>\n",
       "      <td>0</td>\n",
       "      <td>0</td>\n",
       "      <td>0</td>\n",
       "      <td>0</td>\n",
       "      <td>0</td>\n",
       "      <td>0</td>\n",
       "      <td>0</td>\n",
       "      <td>0</td>\n",
       "      <td>0</td>\n",
       "    </tr>\n",
       "  </tbody>\n",
       "</table>\n",
       "<p>5 rows × 4017 columns</p>\n",
       "</div>"
      ],
      "text/plain": [
       "      #  #1  #2  #cc3366  $  $1  $100  $2  $25 ...  zzzzteana@yahoogroups  {  \\\n",
       "0  0  0   0   0        0  1   0     0   0    0 ...                      0  0   \n",
       "1  0  0   0   0        0  0   0     0   0    0 ...                      0  0   \n",
       "2  1  0   0   0        0  0   0     0   0    0 ...                      0  0   \n",
       "3  0  0   0   0        0  0   0     0   0    0 ...                      0  0   \n",
       "4  1  0   0   0        0  0   0     0   0    0 ...                      0  0   \n",
       "\n",
       "   {color:  |  }  ~/  �  �     »  \n",
       "0        0  0  0   0  0  2  0  0  \n",
       "1        0  0  0   0  0  0  0  0  \n",
       "2        0  0  0   0  0  0  0  0  \n",
       "3        0  0  0   0  0  0  0  0  \n",
       "4        0  0  0   0  0  0  0  0  \n",
       "\n",
       "[5 rows x 4017 columns]"
      ]
     },
     "execution_count": 12,
     "metadata": {},
     "output_type": "execute_result"
    }
   ],
   "source": [
    "df_filtered.head()"
   ]
  },
  {
   "cell_type": "markdown",
   "metadata": {},
   "source": [
    "###### Let's split the data into training and validation set"
   ]
  },
  {
   "cell_type": "code",
   "execution_count": 13,
   "metadata": {
    "collapsed": false
   },
   "outputs": [],
   "source": [
    "from sklearn import cross_validation\n",
    "X_train, X_test, y_train, y_test = cross_validation.train_test_split(df_filtered.as_matrix(), df_files_labeled['class'], test_size=0.3, random_state=0)\n"
   ]
  },
  {
   "cell_type": "markdown",
   "metadata": {},
   "source": [
    "###### Gaussian Naive Bayes model"
   ]
  },
  {
   "cell_type": "code",
   "execution_count": 14,
   "metadata": {
    "collapsed": false
   },
   "outputs": [],
   "source": [
    "from sklearn.naive_bayes import GaussianNB\n",
    "gnb = GaussianNB()\n",
    "gnb = gnb.fit(X_train, y_train)\n",
    "y_pred = gnb.predict(X_test)"
   ]
  },
  {
   "cell_type": "markdown",
   "metadata": {},
   "source": [
    "###### Calculate the accuracy score"
   ]
  },
  {
   "cell_type": "code",
   "execution_count": 15,
   "metadata": {
    "collapsed": false
   },
   "outputs": [
    {
     "data": {
      "text/plain": [
       "0.9761354888375674"
      ]
     },
     "execution_count": 15,
     "metadata": {},
     "output_type": "execute_result"
    }
   ],
   "source": [
    "sklearn.metrics.accuracy_score(y_test, y_pred)"
   ]
  },
  {
   "cell_type": "code",
   "execution_count": null,
   "metadata": {
    "collapsed": false
   },
   "outputs": [],
   "source": []
  },
  {
   "cell_type": "markdown",
   "metadata": {},
   "source": [
    "###### Random forest model"
   ]
  },
  {
   "cell_type": "code",
   "execution_count": 16,
   "metadata": {
    "collapsed": false
   },
   "outputs": [],
   "source": [
    "from sklearn.ensemble import RandomForestClassifier\n",
    "clf = RandomForestClassifier(n_estimators=10)\n",
    "clf = clf.fit(X_train, y_train)\n",
    "y_pred = clf.predict(X_test)"
   ]
  },
  {
   "cell_type": "code",
   "execution_count": 17,
   "metadata": {
    "collapsed": false
   },
   "outputs": [
    {
     "data": {
      "text/plain": [
       "0.9838337182448037"
      ]
     },
     "execution_count": 17,
     "metadata": {},
     "output_type": "execute_result"
    }
   ],
   "source": [
    "sklearn.metrics.accuracy_score(y_test, y_pred)"
   ]
  },
  {
   "cell_type": "markdown",
   "metadata": {},
   "source": [
    "###### But why use one train/validation split? Let' do cross-validation"
   ]
  },
  {
   "cell_type": "code",
   "execution_count": 18,
   "metadata": {
    "collapsed": false
   },
   "outputs": [
    {
     "data": {
      "text/plain": [
       "0.98312897342023542"
      ]
     },
     "execution_count": 18,
     "metadata": {},
     "output_type": "execute_result"
    }
   ],
   "source": [
    "scores = sklearn.cross_validation.cross_val_score(clf, df_filtered.as_matrix(), df_files_labeled['class'])\n",
    "scores.mean()"
   ]
  },
  {
   "cell_type": "code",
   "execution_count": null,
   "metadata": {
    "collapsed": false
   },
   "outputs": [],
   "source": []
  },
  {
   "cell_type": "markdown",
   "metadata": {},
   "source": [
    "##### Extra Trees Classifier"
   ]
  },
  {
   "cell_type": "code",
   "execution_count": 19,
   "metadata": {
    "collapsed": false
   },
   "outputs": [
    {
     "data": {
      "text/plain": [
       "0.98821322122293009"
      ]
     },
     "execution_count": 19,
     "metadata": {},
     "output_type": "execute_result"
    }
   ],
   "source": [
    "clf = sklearn.ensemble.ExtraTreesClassifier(n_estimators=10, max_depth=None,min_samples_split=1, random_state=0)\n",
    "scores = sklearn.cross_validation.cross_val_score(clf, df_filtered.as_matrix(), df_files_labeled['class'])\n",
    "scores.mean()"
   ]
  },
  {
   "cell_type": "markdown",
   "metadata": {},
   "source": [
    "###### AdaBoost Classifier"
   ]
  },
  {
   "cell_type": "code",
   "execution_count": 20,
   "metadata": {
    "collapsed": false
   },
   "outputs": [
    {
     "data": {
      "text/plain": [
       "0.99098682593828225"
      ]
     },
     "execution_count": 20,
     "metadata": {},
     "output_type": "execute_result"
    }
   ],
   "source": [
    "clf = sklearn.ensemble.AdaBoostClassifier(n_estimators=100)\n",
    "scores = sklearn.cross_validation.cross_val_score(clf, df_filtered.as_matrix(), df_files_labeled['class'])\n",
    "scores.mean()"
   ]
  },
  {
   "cell_type": "raw",
   "metadata": {},
   "source": [
    "So 2.2% of your spam emails will come to your inbox (a bit annoying) and 2.2% of your real emails will go into the spam folder (Not acceptable!) How do we make sure that none of your important emails go into the spam folder?"
   ]
  },
  {
   "cell_type": "markdown",
   "metadata": {},
   "source": [
    "###### Draw an ROC curve"
   ]
  },
  {
   "cell_type": "code",
   "execution_count": 21,
   "metadata": {
    "collapsed": false
   },
   "outputs": [],
   "source": [
    "clf = sklearn.ensemble.AdaBoostClassifier(n_estimators=100)\n",
    "clf = clf.fit(X_train, y_train)"
   ]
  },
  {
   "cell_type": "code",
   "execution_count": 22,
   "metadata": {
    "collapsed": false
   },
   "outputs": [],
   "source": [
    "y_score = [score[0] for score in clf.predict_proba(X_test)]"
   ]
  },
  {
   "cell_type": "code",
   "execution_count": 23,
   "metadata": {
    "collapsed": false
   },
   "outputs": [],
   "source": [
    "fpr, tpr, thresholds = sklearn.metrics.roc_curve(y_test, y_score, pos_label = 0)"
   ]
  },
  {
   "cell_type": "code",
   "execution_count": 24,
   "metadata": {
    "collapsed": false
   },
   "outputs": [
    {
     "name": "stdout",
     "output_type": "stream",
     "text": [
      "Populating the interactive namespace from numpy and matplotlib\n"
     ]
    },
    {
     "name": "stderr",
     "output_type": "stream",
     "text": [
      "WARNING: pylab import has clobbered these variables: ['clf', 'f']\n",
      "`%matplotlib` prevents importing * from pylab and numpy\n"
     ]
    },
    {
     "data": {
      "text/plain": [
       "(0.5, 1)"
      ]
     },
     "execution_count": 24,
     "metadata": {},
     "output_type": "execute_result"
    },
    {
     "data": {
      "image/png": "[encoded data removed]",
      "text/plain": [
       "<matplotlib.figure.Figure at 0x12d5796d0>"
      ]
     },
     "metadata": {},
     "output_type": "display_data"
    }
   ],
   "source": [
    "import matplotlib.pyplot as plt\n",
    "%pylab inline\n",
    "plt.plot(fpr, tpr)\n",
    "plt.xlim(0,0.3)\n",
    "plt.ylim(0.5,1)"
   ]
  },
  {
   "cell_type": "code",
   "execution_count": 25,
   "metadata": {
    "collapsed": false
   },
   "outputs": [
    {
     "name": "stderr",
     "output_type": "stream",
     "text": [
      "/Library/Frameworks/Python.framework/Versions/2.7/lib/python2.7/site-packages/ipykernel/__main__.py:1: FutureWarning: sort(columns=....) is deprecated, use sort_values(by=.....)\n",
      "  if __name__ == '__main__':\n"
     ]
    },
    {
     "data": {
      "text/html": [
       "<div>\n",
       "<table border=\"1\" class=\"dataframe\">\n",
       "  <thead>\n",
       "    <tr style=\"text-align: right;\">\n",
       "      <th></th>\n",
       "      <th>1-tpr</th>\n",
       "      <th>fpr</th>\n",
       "      <th>thresholds</th>\n",
       "      <th>tpr</th>\n",
       "    </tr>\n",
       "  </thead>\n",
       "  <tbody>\n",
       "    <tr>\n",
       "      <th>15</th>\n",
       "      <td>0.260664</td>\n",
       "      <td>0</td>\n",
       "      <td>0.550174</td>\n",
       "      <td>0.739336</td>\n",
       "    </tr>\n",
       "    <tr>\n",
       "      <th>14</th>\n",
       "      <td>0.537915</td>\n",
       "      <td>0</td>\n",
       "      <td>0.588560</td>\n",
       "      <td>0.462085</td>\n",
       "    </tr>\n",
       "    <tr>\n",
       "      <th>13</th>\n",
       "      <td>0.545024</td>\n",
       "      <td>0</td>\n",
       "      <td>0.588654</td>\n",
       "      <td>0.454976</td>\n",
       "    </tr>\n",
       "    <tr>\n",
       "      <th>12</th>\n",
       "      <td>0.715640</td>\n",
       "      <td>0</td>\n",
       "      <td>0.600912</td>\n",
       "      <td>0.284360</td>\n",
       "    </tr>\n",
       "    <tr>\n",
       "      <th>11</th>\n",
       "      <td>0.720379</td>\n",
       "      <td>0</td>\n",
       "      <td>0.601021</td>\n",
       "      <td>0.279621</td>\n",
       "    </tr>\n",
       "  </tbody>\n",
       "</table>\n",
       "</div>"
      ],
      "text/plain": [
       "       1-tpr  fpr  thresholds       tpr\n",
       "15  0.260664    0    0.550174  0.739336\n",
       "14  0.537915    0    0.588560  0.462085\n",
       "13  0.545024    0    0.588654  0.454976\n",
       "12  0.715640    0    0.600912  0.284360\n",
       "11  0.720379    0    0.601021  0.279621"
      ]
     },
     "execution_count": 25,
     "metadata": {},
     "output_type": "execute_result"
    }
   ],
   "source": [
    "pd.DataFrame({'fpr':fpr, 'tpr':tpr, '1-tpr':1-tpr, 'thresholds':thresholds}).sort(columns=['fpr', '1-tpr']).head()"
   ]
  },
  {
   "cell_type": "code",
   "execution_count": 26,
   "metadata": {
    "collapsed": false
   },
   "outputs": [
    {
     "name": "stderr",
     "output_type": "stream",
     "text": [
      "/Library/Frameworks/Python.framework/Versions/2.7/lib/python2.7/site-packages/ipykernel/__main__.py:1: FutureWarning: sort(columns=....) is deprecated, use sort_values(by=.....)\n",
      "  if __name__ == '__main__':\n"
     ]
    },
    {
     "data": {
      "text/html": [
       "<div>\n",
       "<table border=\"1\" class=\"dataframe\">\n",
       "  <thead>\n",
       "    <tr style=\"text-align: right;\">\n",
       "      <th></th>\n",
       "      <th>1-tpr</th>\n",
       "      <th>fpr</th>\n",
       "      <th>thresholds</th>\n",
       "      <th>tpr</th>\n",
       "    </tr>\n",
       "  </thead>\n",
       "  <tbody>\n",
       "    <tr>\n",
       "      <th>33</th>\n",
       "      <td>0</td>\n",
       "      <td>0.012543</td>\n",
       "      <td>0.488512</td>\n",
       "      <td>1</td>\n",
       "    </tr>\n",
       "    <tr>\n",
       "      <th>34</th>\n",
       "      <td>0</td>\n",
       "      <td>0.045610</td>\n",
       "      <td>0.471480</td>\n",
       "      <td>1</td>\n",
       "    </tr>\n",
       "    <tr>\n",
       "      <th>35</th>\n",
       "      <td>0</td>\n",
       "      <td>0.047891</td>\n",
       "      <td>0.471390</td>\n",
       "      <td>1</td>\n",
       "    </tr>\n",
       "    <tr>\n",
       "      <th>36</th>\n",
       "      <td>0</td>\n",
       "      <td>0.062714</td>\n",
       "      <td>0.464232</td>\n",
       "      <td>1</td>\n",
       "    </tr>\n",
       "    <tr>\n",
       "      <th>37</th>\n",
       "      <td>0</td>\n",
       "      <td>0.064994</td>\n",
       "      <td>0.463709</td>\n",
       "      <td>1</td>\n",
       "    </tr>\n",
       "  </tbody>\n",
       "</table>\n",
       "</div>"
      ],
      "text/plain": [
       "    1-tpr       fpr  thresholds  tpr\n",
       "33      0  0.012543    0.488512    1\n",
       "34      0  0.045610    0.471480    1\n",
       "35      0  0.047891    0.471390    1\n",
       "36      0  0.062714    0.464232    1\n",
       "37      0  0.064994    0.463709    1"
      ]
     },
     "execution_count": 26,
     "metadata": {},
     "output_type": "execute_result"
    }
   ],
   "source": [
    "pd.DataFrame({'fpr':fpr, 'tpr':tpr, '1-tpr':1-tpr, 'thresholds':thresholds}).sort(columns=['1-tpr', 'fpr']).head()"
   ]
  },
  {
   "cell_type": "raw",
   "metadata": {},
   "source": [
    "So based on this, we can build a classifier with 0% false positive rate (0% of non-spam emails will be classified as spam) and 48% true positive rate (48% of spam emails will be filtered into the spam folder)\n",
    "Alternatively, we can build a classifier with 100% true positive rate (all spam emails are caught) and 14% false positive rate (14% of real emails go into the spam folder)\n"
   ]
  },
  {
   "cell_type": "markdown",
   "metadata": {},
   "source": [
    "###### How can we do better from here?"
   ]
  },
  {
   "cell_type": "raw",
   "metadata": {},
   "source": [
    "- try additional models\n",
    "- try other parameters\n",
    "- make better features\n",
    "- balance the classes"
   ]
  },
  {
   "cell_type": "markdown",
   "metadata": {},
   "source": [
    "###### Now report the test error"
   ]
  },
  {
   "cell_type": "code",
   "execution_count": 27,
   "metadata": {
    "collapsed": false
   },
   "outputs": [],
   "source": [
    "filepath_train = \"/Users/apple/Desktop/Kaggle/SpamEmail/CSDMC2010_SPAM/CSDMC2010_SPAM/TEST_extract\""
   ]
  }
 ],
 "metadata": {
  "kernelspec": {
   "display_name": "Python 2",
   "language": "python",
   "name": "python2"
  },
  "language_info": {
   "codemirror_mode": {
    "name": "ipython",
    "version": 2
   },
   "file_extension": ".py",
   "mimetype": "text/x-python",
   "name": "python",
   "nbconvert_exporter": "python",
   "pygments_lexer": "ipython2",
   "version": "2.7.9"
  }
 },
 "nbformat": 4,
 "nbformat_minor": 0
}
